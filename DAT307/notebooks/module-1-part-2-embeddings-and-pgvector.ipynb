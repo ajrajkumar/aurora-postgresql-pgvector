{
 "cells": [
  {
   "cell_type": "markdown",
   "id": "694c13ad-ac66-4049-92bd-dbd08d107596",
   "metadata": {
    "tags": []
   },
   "source": [
    "## Module 1\n",
    "\n",
    "### Part-1 Embeddings & pgVector\n",
    "\n",
    "- Understand the Vector Embeddings\n",
    "- How to store vector data inside Aurora PostgreSQL.\n",
    "- Describe the importance of tuning the pgvector index and search best practices\n",
    "\n",
    "\n",
    "**Note**\n",
    "\n",
    "To keep things simple, we have put together multiple utility functions. You do not have to learn the code in these utility functions (unless you want to :). Do run the cells with utility functions and start from cell # 1."
   ]
  },
  {
   "cell_type": "code",
   "execution_count": null,
   "id": "ae6209d9-df2f-43ca-9e8e-74b96860e18c",
   "metadata": {
    "tags": []
   },
   "outputs": [],
   "source": [
    "## Install the driver for PostgreSQL\n",
    "\n",
    "!pip install \"psycopg[binary]\""
   ]
  },
  {
   "cell_type": "markdown",
   "id": "ce4f1693-0941-4179-aaf7-c2e08ca408ce",
   "metadata": {
    "tags": []
   },
   "source": [
    "## Create DB connection\n",
    "\n",
    "* Retrieve the database credentials from secrets manager\n",
    "* Setup database connection"
   ]
  },
  {
   "cell_type": "code",
   "execution_count": null,
   "id": "73bd592f-9f9e-4664-90b5-b97a6b4e8f12",
   "metadata": {
    "tags": []
   },
   "outputs": [],
   "source": [
    "import psycopg\n",
    "from psycopg2 import sql \n",
    "import boto3\n",
    "import json\n",
    "import sys\n",
    "import time\n",
    "\n",
    "sm_client = boto3.client('secretsmanager')\n",
    "\n",
    "response = sm_client.get_secret_value(SecretId='apgpg-pgvector-secret')\n",
    "database_secrets = json.loads(response['SecretString'])\n",
    "\n",
    "dbhost = database_secrets['host']\n",
    "dbport = database_secrets['port']\n",
    "dbuser = database_secrets['username']\n",
    "dbpass = database_secrets['password']\n",
    "\n",
    "dbconn = psycopg.connect(host=dbhost, user=dbuser, password=dbpass, port=dbport, connect_timeout=10, autocommit=True)"
   ]
  },
  {
   "cell_type": "markdown",
   "id": "5e1163c0-a713-40f4-9728-73831727ac64",
   "metadata": {},
   "source": [
    "## Utility functions"
   ]
  },
  {
   "cell_type": "markdown",
   "id": "85ee2330-16f1-44d8-9c7b-5cb66e071b22",
   "metadata": {
    "tags": []
   },
   "source": [
    "### Database Utility functions"
   ]
  },
  {
   "cell_type": "code",
   "execution_count": null,
   "id": "354a9b4b-cfb1-4ca7-b6e4-437a67cc7a1b",
   "metadata": {
    "tags": []
   },
   "outputs": [],
   "source": [
    "# Invoke a SQL statement\n",
    "# Close the cursor after you are done with the call\n",
    "def invoke_sql(statement):\n",
    "    cur = dbconn.cursor()\n",
    "    try:\n",
    "        cur.execute(statement)\n",
    "        return cur\n",
    "    except Exception as error:\n",
    "        print(\"DB statement execution error !!!\", error)\n",
    "        sys.exit(1)\n",
    "\n",
    "def invoke_sql_dump_rows(statement, all=True):\n",
    "    cur = invoke_sql(statement)\n",
    "\n",
    "    if all:\n",
    "        rows = cur.fetchall()\n",
    "\n",
    "        for row in rows:\n",
    "            print(row)\n",
    "    else:\n",
    "        \n",
    "        row = cur.fetchone()\n",
    "        print(row)\n",
    "        \n",
    "    cur.close()\n",
    "    \n",
    "def invoke_sql_dml(statement):\n",
    "    cur = dbconn.cursor()\n",
    "    try:\n",
    "        cur.execute(statement)\n",
    "        cur.close()\n",
    "    except Exception as error:\n",
    "        print(\"DB statement execution error !!!\", error)\n",
    "        sys.exit(1)\n",
    "\n",
    "# Create table with a vector attribute\n",
    "# NO action taken, if the table {table_name} already exist\n",
    "# Otherwise creates the table with following attributes:  id(TEXT),  chunk(TEXT),   embedding(VECTOR[vector_dim])   metadata(JSONB)\n",
    "def create_test_table(table_name, vector_dim):\n",
    "    vector_dim = int(vector_dim)\n",
    "    cur = dbconn.cursor()\n",
    "\n",
    "    cur.execute(f\"\"\"\n",
    "        SELECT EXISTS (\n",
    "            SELECT 1\n",
    "            FROM information_schema.tables\n",
    "            WHERE table_schema = 'public' AND table_name = '{table_name}'\n",
    "        );\n",
    "        \"\"\")\n",
    "    exists = cur.fetchone()[0]\n",
    "\n",
    "    if exists:\n",
    "        print(f\"Table '{table_name}' already exists.\")\n",
    "        # truncate the table\n",
    "        invoke_sql_dml(f\"TRUNCATE TABLE {table_name}\")\n",
    "    else: \n",
    "        try:\n",
    "            cur.execute(f\"\"\"\n",
    "                    CREATE TABLE {table_name} (\n",
    "                        _id SERIAL PRIMARY KEY,\n",
    "                        text TEXT,\n",
    "                        embedding VECTOR({vector_dim})\n",
    "                    );\n",
    "                \"\"\")\n",
    "            print(\"Created the table : \", table_name)\n",
    "        except Exception as e:\n",
    "            dbconn.rollback()\n",
    "            print(f\"An error occurred while creating the table: {e}\")\n",
    "\n",
    "    dbconn.commit()\n",
    "    cur.close()\n",
    "\n",
    "    \n",
    "# Create the product table\n",
    "def create_product_table(product_table_name, vector_dim):\n",
    "    vector_dim = int(vector_dim)\n",
    "    cur = dbconn.cursor()\n",
    "\n",
    "    cur.execute(f\"\"\"\n",
    "        SELECT EXISTS (\n",
    "            SELECT 1\n",
    "            FROM information_schema.tables\n",
    "            WHERE table_schema = 'public' AND table_name = '{product_table_name}'\n",
    "        );\n",
    "        \"\"\")\n",
    "    exists = cur.fetchone()[0]\n",
    "\n",
    "    if exists:\n",
    "        print(f\"Table '{product_table_name}' already exists.\")\n",
    "        # truncate the table\n",
    "        invoke_sql_dml(f\"TRUNCATE TABLE {product_table_name}\")\n",
    "    else: \n",
    "        try:\n",
    "            cur.execute(f\"\"\"\n",
    "                    CREATE TABLE {product_table_name} (\n",
    "                        id TEXT PRIMARY KEY,\n",
    "                        text TEXT,\n",
    "                        embedding VECTOR({vector_dim}),\n",
    "                        product_image  TEXT,\n",
    "                        metadata  JSONB\n",
    "                    );\n",
    "                \"\"\")\n",
    "            print(\"Created the table : \", product_table_name)\n",
    "        except Exception as e:\n",
    "            dbconn.rollback()\n",
    "            print(f\"An error occurred while creating the table: {e}\")\n",
    "\n",
    "    dbconn.commit()\n",
    "    cur.close()\n",
    "    \n",
    "# Create product table & populate it with products data available in local JSONL file\n",
    "# Intent is just to show the code that was used for populating the product table\n",
    "def   create_and_populate_product_table(product_table_name, vector_dimension):\n",
    "    \n",
    "    # Creates the product table\n",
    "    create_product_table(product_table_name, vector_dimension)\n",
    "    \n",
    "    # Product data file\n",
    "    file_path = \"./data/amazon.jsonl\"\n",
    "    \n",
    "    # Read 1 product at a time, generate embedding and insert to product table\n",
    "    with open(file_path, 'r') as file:\n",
    "            for line in file:\n",
    "                data = json.loads(line)\n",
    "                # Process the JSON object (data) here\n",
    "                input_text = data['category'] + \"\\n\" + data[\"product_name\"] + \"\\n\"\n",
    "                embedding_input_text = create_embedding(input_text)\n",
    "                product_image = data['product_image']\n",
    "                # print(input_text)\n",
    "                id = data['id']\n",
    "                metadata = {}\n",
    "                sql = f\"INSERT INTO {product_table_name} (id, embedding, text, metadata, product_image) VALUES ('{id}', '{embedding_input_text}', '{input_text}', '{metadata}', '{product_image}')\"\n",
    "                # print(sql)\n",
    "                invoke_sql_dml(sql)\n",
    "                print(\".\", end='')\n",
    "    \n",
    "    \n",
    "# Utility function to display the image for products\n",
    "def invoke_sql_dump_rows_with_images(sql):\n",
    "    cur = invoke_sql(sql)\n",
    "    rows = cur.fetchall()\n",
    "    for row in rows:\n",
    "        print(row[1])\n",
    "        print(row[2])\n",
    "        url = row[2]\n",
    "        i = Image(url=url, width=200)\n",
    "        display(i)\n",
    "    cur.close()\n",
    "    \n"
   ]
  },
  {
   "cell_type": "markdown",
   "id": "af8bc007-e49d-41ce-b3da-c6b15365e019",
   "metadata": {},
   "source": [
    "### Plot bar chart\n",
    "Function to draw a plot."
   ]
  },
  {
   "cell_type": "code",
   "execution_count": null,
   "id": "9b184c1e-6742-4b7e-b60b-055ecb0b718a",
   "metadata": {
    "tags": []
   },
   "outputs": [],
   "source": [
    "import matplotlib.pyplot as plt\n",
    "\n",
    "def  plot_bar_chart(categories, values, title):\n",
    "    # Create the bar chart\n",
    "    plt.bar(categories, values)\n",
    "\n",
    "    plt.title(title)\n",
    "\n",
    "    # Display the chart\n",
    "    plt.show()"
   ]
  },
  {
   "cell_type": "markdown",
   "id": "1bda034e-6275-428c-951c-ad4c1bc8b2db",
   "metadata": {},
   "source": [
    "### Embedding utility function\n",
    "\n",
    "This function will use Amazon Titan Text Embeddings modeel to generate embeddings.\n",
    "\n",
    "![embeddings|100x100,100%](images/gen_embeddings.png)\n",
    "\n",
    "https://docs.aws.amazon.com/code-library/latest/ug/python_3_bedrock-runtime_code_examples.html"
   ]
  },
  {
   "cell_type": "code",
   "execution_count": null,
   "id": "8debb4fa-b8be-47e6-99d7-45ff23aae168",
   "metadata": {
    "tags": []
   },
   "outputs": [],
   "source": [
    "\n",
    "bedrock_client = boto3.client(\"bedrock-runtime\")\n",
    "\n",
    "# Each model supprts discrete vector dimensions. Model we are using supports vector dimension of 1024\n",
    "model_id = \"amazon.titan-embed-text-v2:0\"\n",
    "vector_dimension = 1024\n",
    "\n",
    "def create_embedding(input_text):\n",
    "    # Create the request for the model.\n",
    "    native_request = {\"inputText\": input_text}\n",
    "    \n",
    "    # Convert the native request to JSON.\n",
    "    request = json.dumps(native_request)\n",
    "    \n",
    "    # Invoke the model with the request.\n",
    "    response = bedrock_client.invoke_model(modelId=model_id, body=request)\n",
    "    \n",
    "    # Decode the model's native response body.\n",
    "    model_response = json.loads(response[\"body\"].read())\n",
    "\n",
    "    # Extract and print the generated embedding and the input text token count.\n",
    "    embedding = model_response[\"embedding\"]\n",
    "    \n",
    "    return embedding\n",
    "\n"
   ]
  },
  {
   "cell_type": "markdown",
   "id": "e08ce5d2-5c2b-4c85-b967-58c43d9c2f92",
   "metadata": {},
   "source": [
    "## 1. Verify that pgvector extension is installed\n",
    "\n",
    "pgvector is an open-source extension for PostgreSQL, which allows you to store vector embeddings and perform vector similarity searches in Postgres.\""
   ]
  },
  {
   "cell_type": "code",
   "execution_count": null,
   "id": "a3c848f2-818b-47ff-ae32-56703d979a43",
   "metadata": {
    "tags": []
   },
   "outputs": [],
   "source": [
    "# Invoke a SQL to get a list of installed extensions and their versions\n",
    "# pg_vector extention is already installed in the PostgreSQL database.\n",
    "\n",
    "sql = \"SELECT oid, extname, extversion FROM pg_extension\"\n",
    "\n",
    "invoke_sql_dump_rows(sql)"
   ]
  },
  {
   "cell_type": "markdown",
   "id": "7893b69c-6ea8-4393-b4f2-aac0f5b78b49",
   "metadata": {},
   "source": [
    "## 2. Create a table with attribute of type vector\n",
    "\n",
    "1. Creates a table if it does NOT exist. The table has a *embedding* attribute that holds a vector of pre-defined size i.e., specified vector dimension.\n",
    "\n",
    "2. Get the DDL for the table\n",
    "\n",
    "* _id           PK \n",
    "* chunk         Text    :   This is the actual text that is embedded\n",
    "* embedding     Vector(dimension)  :  Vector representation for the text chunk\n",
    "* metadata      JSONB\n",
    "\n"
   ]
  },
  {
   "cell_type": "code",
   "execution_count": null,
   "id": "592cb173-77c9-47e4-af66-f5757f5fea44",
   "metadata": {
    "tags": []
   },
   "outputs": [],
   "source": [
    "# Table name - change the names as needed\n",
    "table_name = f\"table_test_1_dim_{vector_dimension}\"\n",
    "\n",
    "# Create table if it doesn't exist\n",
    "create_test_table(table_name, vector_dimension)\n",
    "\n",
    "sql = f\"SELECT a.attname, pg_catalog.format_type(a.atttypid, a.atttypmod)FROM pg_catalog.pg_attribute a \\\n",
    "        WHERE a.attrelid = (SELECT c.oid FROM pg_catalog.pg_class c \\\n",
    "        LEFT JOIN pg_catalog.pg_namespace n ON n.oid = c.relnamespace WHERE c.relname='{table_name}')   AND a.attnum > 0 ;\"\n",
    "invoke_sql_dump_rows(sql)"
   ]
  },
  {
   "cell_type": "markdown",
   "id": "4cd33365-3ec7-488e-aaff-31c2b5ab8356",
   "metadata": {},
   "source": [
    "## 3. Create test data embeddings and add to the table\n",
    "\n",
    "These are text input examples to demonstrate how vectors are added and queried in PostgreSQL with the pgvector extension.\n",
    "\n",
    "**NOTE:** Running this multple times will result in the row getting added multiple times !!"
   ]
  },
  {
   "cell_type": "code",
   "execution_count": null,
   "id": "bee29328-ccc7-44a4-8648-3194e95d7693",
   "metadata": {
    "tags": []
   },
   "outputs": [],
   "source": [
    "# Test data - Food, Sports\n",
    "input_data = [\n",
    "    \"I love baseball\",\n",
    "    \"I love pizza\",\n",
    "    \"my favorite sports is football\",\n",
    "    \"my favorite food is pasta\",\n",
    "    \"I like enchiladas\",\n",
    "    \"I cant miss the basketball match\"\n",
    "]\n",
    "\n",
    "# Generate the embedding for data and insert to the table\n",
    "for text in input_data:\n",
    "    embedding = create_embedding(text)\n",
    "    sql = f\"INSERT INTO {table_name} (text, embedding) VALUES ('{text}', '{embedding}');\"\n",
    "    invoke_sql_dml(sql)\n",
    "\n",
    "# Dump the count of rows in the table\n",
    "invoke_sql_dump_rows(f\"SELECT count(*) FROM {table_name}\")"
   ]
  },
  {
   "cell_type": "markdown",
   "id": "19f1737d-aac9-4b22-b1d5-b7bd81406ac5",
   "metadata": {
    "tags": []
   },
   "source": [
    "## 4. Semantic search without Indexing i.e., exact search\n",
    "\n",
    "In the cell below, we have given you sample queries in a list, change the queries[x] index to search given string.\n",
    "ex: queries[0], will search \"I like mexican food\"\n"
   ]
  },
  {
   "cell_type": "code",
   "execution_count": null,
   "id": "3d10f03a-a180-42a0-8165-a01907c3328f",
   "metadata": {
    "tags": []
   },
   "outputs": [],
   "source": [
    "# sample queries\n",
    "queries = [\n",
    "    \"I like mexican food\",\n",
    "    \"I like italian food\",\n",
    "    \"What is your favorite food\",\n",
    "    \"I am a sports fan\",\n",
    "]\n",
    "\n",
    "# Change index to try out different queries, try any value between 0 to 3\n",
    "query = queries[0] \n",
    "\n",
    "# Generate the embedding for the query\n",
    "query_embedding = create_embedding(query)\n",
    "\n",
    "# Do an exact search with kNN using the L2 distance operator '<->'\n",
    "# You may try different operators, the results won't change \n",
    "\n",
    "###  <#> - (negative) inner product    \n",
    "###  <=> - cosine distance\n",
    "###  <+> - L1 distance (added in 0.7.0) \n",
    "###  <~> - Hamming distance (binary vectors, added in 0.7.0)\n",
    "###. <%> - Jaccard distance (binary vectors, added in 0.7.0)\n",
    "\n",
    "# Set the value of k, this is number of records to retrive.\n",
    "k = 3\n",
    "\n",
    "# Check out the query to retrieve the semantically closest text from the table\n",
    "sql = f\"SELECT text FROM {table_name} ORDER BY embedding <-> '{query_embedding}' LIMIT {k};\"\n",
    "invoke_sql_dump_rows(sql)"
   ]
  },
  {
   "cell_type": "markdown",
   "id": "72256e06-20e9-4d19-8dc9-ae33d3b02315",
   "metadata": {},
   "source": [
    "## 5. Prepare, Load product data and create index\n",
    "So far we have worked with a small number of rows and indexing does not really provides us any benefit. But as the number of rows increases we will start to see the benefit of ANN algorithms. \n",
    "\n",
    "In order to save time, we have already created the product taable and populated it with roughly 10K products. We will query this table with kNN exact search and then create an index of carrying out ANN search.\n",
    "\n",
    "If yoou are curious, how we populated the table. Here is the code:\n",
    "\n",
    "```\n",
    "# Code for populating the product table\n",
    "vector_dimension=1024\n",
    "product_table_name = f\"product_table_5_dim_{vector_dimension}\"\n",
    "\n",
    "create_and_populate_product_table(product_table_name, vector_dimension)\n",
    "```"
   ]
  },
  {
   "cell_type": "code",
   "execution_count": null,
   "id": "ae722b16-e153-42ad-b019-69a1c012a12f",
   "metadata": {
    "tags": []
   },
   "outputs": [],
   "source": [
    "# The product table is already created and populated\n",
    "product_table_name = f\"product_table_dim_{vector_dimension}\"\n",
    "\n",
    "# Check the structure of product table\n",
    "sql = f\"SELECT a.attname, pg_catalog.format_type(a.atttypid, a.atttypmod)FROM pg_catalog.pg_attribute a \\\n",
    "        WHERE a.attrelid = (SELECT c.oid FROM pg_catalog.pg_class c \\\n",
    "       LEFT JOIN pg_catalog.pg_namespace n ON n.oid = c.relnamespace WHERE c.relname='{product_table_name}')   AND a.attnum > 0 ;\"\n",
    "\n",
    "print(\"Product table structure\")\n",
    "print(\"=======================\")\n",
    "invoke_sql_dump_rows(sql)\n",
    "\n",
    "# Dump the count of rows in the table\n",
    "print(\"\\nProduct table row count\")\n",
    "print(\"=======================\")\n",
    "invoke_sql_dump_rows(f\"SELECT count(*) FROM {product_table_name}\")"
   ]
  },
  {
   "cell_type": "markdown",
   "id": "06d8c559-c2bf-4ea0-b36f-5353fb233213",
   "metadata": {},
   "source": [
    "### Setup search query & query string embedding : Product table"
   ]
  },
  {
   "cell_type": "code",
   "execution_count": null,
   "id": "e13a818a-a371-496c-b07f-21dd17364a59",
   "metadata": {
    "tags": []
   },
   "outputs": [],
   "source": [
    "\n",
    "from IPython.display import Image, display\n",
    "from urllib.request import urlopen\n",
    "\n",
    "# Try out the following queries, uncomment one query at a time.\n",
    "query = \"I am looking for a toy that can teach language to children\"\n",
    "#query = \"I am looking for a toy that can teach music to children\"\n",
    "#query = \"I am looking for a toy that can teach crafts to children\"\n",
    "#query = \"I am looking for a toy that can teach knitting to children\"\n",
    "#query = \"I am looking for a toy that can teach engineering to children\"\n",
    "\n",
    "# Set the number of records to be fetched\n",
    "k=5\n",
    "\n",
    "# Create the embedding for the query string\n",
    "query_embedding = create_embedding(query)\n",
    "\n"
   ]
  },
  {
   "cell_type": "markdown",
   "id": "6678b4b7-a351-4e80-a053-189c0d110af0",
   "metadata": {},
   "source": [
    "### Run exact search : Product table"
   ]
  },
  {
   "cell_type": "code",
   "execution_count": null,
   "id": "e1f72768-d4b8-4b0a-9c4c-30eebb3225d6",
   "metadata": {
    "tags": []
   },
   "outputs": [],
   "source": [
    "%%time\n",
    "\n",
    "# L2 distance operator\n",
    "sql = f\"SELECT id, text, product_image FROM {product_table_name} ORDER BY embedding <-> '{query_embedding}' LIMIT {k};\"\n",
    "# invoke_sql_dump_rows(sql)\n",
    "\n",
    "invoke_sql_dump_rows_with_images(sql)"
   ]
  },
  {
   "cell_type": "markdown",
   "id": "c6b87f93-1753-45ea-a19e-b1480d040b54",
   "metadata": {
    "tags": []
   },
   "source": [
    "### 6. HNSW Index creation & ANN\n",
    "\n",
    "Let's create an index and try out ANN. Pay attention to the distance operator !!!\n",
    "\n",
    "* **m**  (between 2 & 100, default = 16) : the max number of connections per layer. A larger M means a more interconnected, denser graph but one that will consume more memory and be slower to insert.\n",
    "\n",
    "* **ef_construction** (between 4 & 1000, default = 64): the size of the dynamic candidate list for constructing the graph (64 by default). Bigger ef_construction leads to longer construction, but better index quality. ef_construction must be greater than or equal to 2 * m\n",
    "\n",
    "After running the ANN search compare the query latency for exact vs ANN search. You will find the runtime stats after the query results."
   ]
  },
  {
   "cell_type": "code",
   "execution_count": null,
   "id": "5b5e3694-ce5a-451d-93ab-dd0cbc240fb9",
   "metadata": {
    "tags": []
   },
   "outputs": [],
   "source": [
    "# Create the index\n",
    "\n",
    "sql = f\"CREATE INDEX ON {product_table_name} USING hnsw (embedding vector_cosine_ops) WITH (m=32, ef_construction=128)\"\n",
    "\n",
    "invoke_sql_dml(sql)"
   ]
  },
  {
   "cell_type": "markdown",
   "id": "df065232-1be5-4f0d-a986-e4f6389632ae",
   "metadata": {},
   "source": [
    "### Run ANN search : Product table"
   ]
  },
  {
   "cell_type": "code",
   "execution_count": null,
   "id": "ae9c86ed-5297-4cc1-9d86-9acda63031c4",
   "metadata": {
    "tags": []
   },
   "outputs": [],
   "source": [
    "%%time\n",
    "\n",
    "# Run ANN\n",
    "\n",
    "# Cosine distance operator\n",
    "# Compare this query with the exact search query - ONLY difference is the distance operator !!!\n",
    "sql = f\"SELECT id, text, product_image FROM {product_table_name} ORDER BY embedding <=> '{query_embedding}' LIMIT {k};\"\n",
    "\n",
    "invoke_sql_dump_rows_with_images(sql)"
   ]
  },
  {
   "cell_type": "markdown",
   "id": "56be082d-7e4e-4d51-aaaf-67786f30fb38",
   "metadata": {},
   "source": [
    "### References\n",
    "\n",
    "[pgVector on GitHub](https://github.com/pgvector/pgvector)\n",
    "\n",
    "[pgVector v0.70](https://www.postgresql.org/about/news/pgvector-070-released-2852/)\n",
    "\n",
    "[Effect of Quantization](https://jkatz05.com/post/postgres/pgvector-scalar-binary-quantization/)"
   ]
  }
 ],
 "metadata": {
  "kernelspec": {
   "display_name": "conda_python3",
   "language": "python",
   "name": "conda_python3"
  },
  "language_info": {
   "codemirror_mode": {
    "name": "ipython",
    "version": 3
   },
   "file_extension": ".py",
   "mimetype": "text/x-python",
   "name": "python",
   "nbconvert_exporter": "python",
   "pygments_lexer": "ipython3",
   "version": "3.10.15"
  }
 },
 "nbformat": 4,
 "nbformat_minor": 5
}
